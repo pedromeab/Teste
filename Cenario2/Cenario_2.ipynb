{
  "nbformat": 4,
  "nbformat_minor": 0,
  "metadata": {
    "colab": {
      "name": "Cenario 2.ipynb",
      "provenance": []
    },
    "kernelspec": {
      "name": "python3",
      "display_name": "Python 3"
    },
    "language_info": {
      "name": "python"
    }
  },
  "cells": [
    {
      "cell_type": "markdown",
      "metadata": {
        "id": "CtiYFXstDRZi"
      },
      "source": [
        "## Cenário II\n"
      ]
    },
    {
      "cell_type": "markdown",
      "metadata": {
        "id": "NvTLGpWqhhP9"
      },
      "source": [
        "##### Lendo o Arquivo"
      ]
    },
    {
      "cell_type": "code",
      "metadata": {
        "id": "jUk4ohO3DkJD"
      },
      "source": [
        "import pandas as pd\n",
        "arquivo = '/content/drive/MyDrive/Colab Notebooks/Lambda3/Teste 2/data.json'\n",
        "df = pd.read_json(arquivo)"
      ],
      "execution_count": 1,
      "outputs": []
    },
    {
      "cell_type": "markdown",
      "metadata": {
        "id": "183VPHjbhsGf"
      },
      "source": [
        "### Trabalhando os Dados\n",
        "\n",
        "Foi retirada a coluna 'ItemList' para pode trabalhar primeiro com as linhas que restaram."
      ]
    },
    {
      "cell_type": "code",
      "metadata": {
        "id": "DGhhxRgqDnis"
      },
      "source": [
        "df1 = df.drop('ItemList',1)"
      ],
      "execution_count": 2,
      "outputs": []
    },
    {
      "cell_type": "markdown",
      "metadata": {
        "id": "Pp1UlBNOiCl8"
      },
      "source": [
        "Foram separadas as linhas do dataframe."
      ]
    },
    {
      "cell_type": "code",
      "metadata": {
        "id": "wX8u75HScIlM"
      },
      "source": [
        "zero_linha = df1.loc[0:0]\n",
        "primeira_linha = df1.loc[1:1]\n",
        "segunda_linha = df1.loc[2:2]"
      ],
      "execution_count": 3,
      "outputs": []
    },
    {
      "cell_type": "markdown",
      "metadata": {
        "id": "ILPbI06liG7S"
      },
      "source": [
        "A seguir foram adicionadas a quantidade de linhas relacionas a quantidade de itens na coluna 'ItemList'"
      ]
    },
    {
      "cell_type": "code",
      "metadata": {
        "id": "NM3tNEhHdhNb"
      },
      "source": [
        "df_c = zero_linha.append(zero_linha)\n",
        "df_c = df_c.append(zero_linha)\n",
        "df_c = df_c.append(primeira_linha)\n",
        "df_c = df_c.append(primeira_linha)\n",
        "df_c = df_c.append(segunda_linha)\n",
        "df_c = df_c.append(segunda_linha)\n",
        "df_c = df_c.append(segunda_linha)"
      ],
      "execution_count": 4,
      "outputs": []
    },
    {
      "cell_type": "markdown",
      "metadata": {
        "id": "1tVgI57eiUAv"
      },
      "source": [
        "#### Análise da Coluna 'ItemList'"
      ]
    },
    {
      "cell_type": "code",
      "metadata": {
        "id": "AF822GZXD5q6"
      },
      "source": [
        "linha1 = df['ItemList'][0]\n",
        "linha2 = df['ItemList'][1]\n",
        "linha3 = df['ItemList'][2]"
      ],
      "execution_count": 5,
      "outputs": []
    },
    {
      "cell_type": "code",
      "metadata": {
        "id": "gYHaQBlUTpoP"
      },
      "source": [
        "linha0 = pd.DataFrame(df['ItemList'][0], index=['0', '1', '2'])\n",
        "linha1 = pd.DataFrame(df['ItemList'][1], index=['0', '1'])\n",
        "linha2 = pd.DataFrame(df['ItemList'][2], index=['0', '1', '2'])"
      ],
      "execution_count": 6,
      "outputs": []
    },
    {
      "cell_type": "markdown",
      "metadata": {
        "id": "VI6nDoWtibJw"
      },
      "source": [
        "Foram separados em 3 listas: ProductName (contém o nome dos produtos), value e quantity."
      ]
    },
    {
      "cell_type": "code",
      "metadata": {
        "colab": {
          "base_uri": "https://localhost:8080/"
        },
        "id": "qeTyceabY-3a",
        "outputId": "0050f02d-1284-4692-837f-f77676e41bc3"
      },
      "source": [
        "ProductName0 = linha0['ProductName'].to_list()\n",
        "ProductName1 = linha1['ProductName'].to_list()\n",
        "ProductName2 = linha2['ProductName'].to_list()\n",
        "ProductName = ProductName0 + ProductName1 + ProductName2\n",
        "ProductName\n"
      ],
      "execution_count": 7,
      "outputs": [
        {
          "output_type": "execute_result",
          "data": {
            "text/plain": [
              "['Rice',\n",
              " 'Flour',\n",
              " 'Bean',\n",
              " 'Tomate',\n",
              " 'Pasta',\n",
              " 'Beer',\n",
              " 'French fries',\n",
              " 'Ice cream']"
            ]
          },
          "metadata": {},
          "execution_count": 7
        }
      ]
    },
    {
      "cell_type": "code",
      "metadata": {
        "colab": {
          "base_uri": "https://localhost:8080/"
        },
        "id": "GA7ReEwqZAsh",
        "outputId": "a6471fe7-fe47-46b7-9ff9-43e2657089bf"
      },
      "source": [
        "value0 = linha0['Value'].to_list()\n",
        "value1 = linha1['Value'].to_list()\n",
        "value2 = linha2['Value'].to_list()\n",
        "value = value0 + value1 + value2\n",
        "value\n"
      ],
      "execution_count": 8,
      "outputs": [
        {
          "output_type": "execute_result",
          "data": {
            "text/plain": [
              "[35.55, 11.55, 27.15, 12.25, 7.55, 9.0, 10.99, 27.15]"
            ]
          },
          "metadata": {},
          "execution_count": 8
        }
      ]
    },
    {
      "cell_type": "code",
      "metadata": {
        "colab": {
          "base_uri": "https://localhost:8080/"
        },
        "id": "1lZnH0GgZUW7",
        "outputId": "637a234b-8f51-48ca-b672-4aa6549000cf"
      },
      "source": [
        "quantity0 = linha0['Quantity'].to_list()\n",
        "quantity1 = linha1['Quantity'].to_list()\n",
        "quantity2 = linha2['Quantity'].to_list()\n",
        "quantity = quantity0 + quantity1 + quantity2\n",
        "quantity\n"
      ],
      "execution_count": 9,
      "outputs": [
        {
          "output_type": "execute_result",
          "data": {
            "text/plain": [
              "[2, 5, 7, 10, 5, 6, 2, 1]"
            ]
          },
          "metadata": {},
          "execution_count": 9
        }
      ]
    },
    {
      "cell_type": "markdown",
      "metadata": {
        "id": "xl1eGVMHisAI"
      },
      "source": [
        "Foram acrescidos ao df_c cada uma das listas em forma de coluna formando então o df_completo. Esta variável está em formato dataframe e contém todas as informações disponíveis no arquivo."
      ]
    },
    {
      "cell_type": "code",
      "metadata": {
        "id": "gQEKnYb2X_tl"
      },
      "source": [
        "df_c['ProductName'] = ProductName\n",
        "df_c['Value'] = value\n",
        "df_c['Quantity'] = quantity"
      ],
      "execution_count": 10,
      "outputs": []
    },
    {
      "cell_type": "code",
      "metadata": {
        "id": "9EWRjdJkYJ0r"
      },
      "source": [
        "df_completo = df_c "
      ],
      "execution_count": 11,
      "outputs": []
    },
    {
      "cell_type": "code",
      "metadata": {
        "id": "6LJ_kBSKYO_C",
        "colab": {
          "base_uri": "https://localhost:8080/",
          "height": 297
        },
        "outputId": "4fe6c4e0-fffe-4f9d-c641-dabfe9d0422a"
      },
      "source": [
        "df_completo.reset_index(inplace=True, drop=True)\n",
        "df_completo"
      ],
      "execution_count": 12,
      "outputs": [
        {
          "output_type": "execute_result",
          "data": {
            "text/html": [
              "<div>\n",
              "<style scoped>\n",
              "    .dataframe tbody tr th:only-of-type {\n",
              "        vertical-align: middle;\n",
              "    }\n",
              "\n",
              "    .dataframe tbody tr th {\n",
              "        vertical-align: top;\n",
              "    }\n",
              "\n",
              "    .dataframe thead th {\n",
              "        text-align: right;\n",
              "    }\n",
              "</style>\n",
              "<table border=\"1\" class=\"dataframe\">\n",
              "  <thead>\n",
              "    <tr style=\"text-align: right;\">\n",
              "      <th></th>\n",
              "      <th>CreateDate</th>\n",
              "      <th>EmissionDate</th>\n",
              "      <th>Discount</th>\n",
              "      <th>NFeNumber</th>\n",
              "      <th>NFeID</th>\n",
              "      <th>ProductName</th>\n",
              "      <th>Value</th>\n",
              "      <th>Quantity</th>\n",
              "    </tr>\n",
              "  </thead>\n",
              "  <tbody>\n",
              "    <tr>\n",
              "      <th>0</th>\n",
              "      <td>2021-05-24T20:21:34.79</td>\n",
              "      <td>2021-05-24T00:00:00</td>\n",
              "      <td>0</td>\n",
              "      <td>501</td>\n",
              "      <td>1</td>\n",
              "      <td>Rice</td>\n",
              "      <td>35.55</td>\n",
              "      <td>2</td>\n",
              "    </tr>\n",
              "    <tr>\n",
              "      <th>1</th>\n",
              "      <td>2021-05-24T20:21:34.79</td>\n",
              "      <td>2021-05-24T00:00:00</td>\n",
              "      <td>0</td>\n",
              "      <td>501</td>\n",
              "      <td>1</td>\n",
              "      <td>Flour</td>\n",
              "      <td>11.55</td>\n",
              "      <td>5</td>\n",
              "    </tr>\n",
              "    <tr>\n",
              "      <th>2</th>\n",
              "      <td>2021-05-24T20:21:34.79</td>\n",
              "      <td>2021-05-24T00:00:00</td>\n",
              "      <td>0</td>\n",
              "      <td>501</td>\n",
              "      <td>1</td>\n",
              "      <td>Bean</td>\n",
              "      <td>27.15</td>\n",
              "      <td>7</td>\n",
              "    </tr>\n",
              "    <tr>\n",
              "      <th>3</th>\n",
              "      <td>2021-05-24T20:21:34.79</td>\n",
              "      <td>2021-05-24T00:00:00</td>\n",
              "      <td>0</td>\n",
              "      <td>502</td>\n",
              "      <td>2</td>\n",
              "      <td>Tomate</td>\n",
              "      <td>12.25</td>\n",
              "      <td>10</td>\n",
              "    </tr>\n",
              "    <tr>\n",
              "      <th>4</th>\n",
              "      <td>2021-05-24T20:21:34.79</td>\n",
              "      <td>2021-05-24T00:00:00</td>\n",
              "      <td>0</td>\n",
              "      <td>502</td>\n",
              "      <td>2</td>\n",
              "      <td>Pasta</td>\n",
              "      <td>7.55</td>\n",
              "      <td>5</td>\n",
              "    </tr>\n",
              "    <tr>\n",
              "      <th>5</th>\n",
              "      <td>2021-05-24T20:21:34.79</td>\n",
              "      <td>2021-05-24T00:00:00</td>\n",
              "      <td>0</td>\n",
              "      <td>503</td>\n",
              "      <td>3</td>\n",
              "      <td>Beer</td>\n",
              "      <td>9.00</td>\n",
              "      <td>6</td>\n",
              "    </tr>\n",
              "    <tr>\n",
              "      <th>6</th>\n",
              "      <td>2021-05-24T20:21:34.79</td>\n",
              "      <td>2021-05-24T00:00:00</td>\n",
              "      <td>0</td>\n",
              "      <td>503</td>\n",
              "      <td>3</td>\n",
              "      <td>French fries</td>\n",
              "      <td>10.99</td>\n",
              "      <td>2</td>\n",
              "    </tr>\n",
              "    <tr>\n",
              "      <th>7</th>\n",
              "      <td>2021-05-24T20:21:34.79</td>\n",
              "      <td>2021-05-24T00:00:00</td>\n",
              "      <td>0</td>\n",
              "      <td>503</td>\n",
              "      <td>3</td>\n",
              "      <td>Ice cream</td>\n",
              "      <td>27.15</td>\n",
              "      <td>1</td>\n",
              "    </tr>\n",
              "  </tbody>\n",
              "</table>\n",
              "</div>"
            ],
            "text/plain": [
              "               CreateDate         EmissionDate  ...  Value  Quantity\n",
              "0  2021-05-24T20:21:34.79  2021-05-24T00:00:00  ...  35.55         2\n",
              "1  2021-05-24T20:21:34.79  2021-05-24T00:00:00  ...  11.55         5\n",
              "2  2021-05-24T20:21:34.79  2021-05-24T00:00:00  ...  27.15         7\n",
              "3  2021-05-24T20:21:34.79  2021-05-24T00:00:00  ...  12.25        10\n",
              "4  2021-05-24T20:21:34.79  2021-05-24T00:00:00  ...   7.55         5\n",
              "5  2021-05-24T20:21:34.79  2021-05-24T00:00:00  ...   9.00         6\n",
              "6  2021-05-24T20:21:34.79  2021-05-24T00:00:00  ...  10.99         2\n",
              "7  2021-05-24T20:21:34.79  2021-05-24T00:00:00  ...  27.15         1\n",
              "\n",
              "[8 rows x 8 columns]"
            ]
          },
          "metadata": {},
          "execution_count": 12
        }
      ]
    },
    {
      "cell_type": "markdown",
      "metadata": {
        "id": "MqmqTLO-jCOU"
      },
      "source": [
        "A partir disso foi criado uma novo DataFrame com as informações apenas do 'ItemList'\n",
        "\n"
      ]
    },
    {
      "cell_type": "code",
      "metadata": {
        "colab": {
          "base_uri": "https://localhost:8080/",
          "height": 297
        },
        "id": "r3IzERYZgftn",
        "outputId": "a0c2623c-234c-417a-f4c6-b3bded357149"
      },
      "source": [
        "df_separado = df_completo.iloc[:,5:]\n",
        "df_separado"
      ],
      "execution_count": 13,
      "outputs": [
        {
          "output_type": "execute_result",
          "data": {
            "text/html": [
              "<div>\n",
              "<style scoped>\n",
              "    .dataframe tbody tr th:only-of-type {\n",
              "        vertical-align: middle;\n",
              "    }\n",
              "\n",
              "    .dataframe tbody tr th {\n",
              "        vertical-align: top;\n",
              "    }\n",
              "\n",
              "    .dataframe thead th {\n",
              "        text-align: right;\n",
              "    }\n",
              "</style>\n",
              "<table border=\"1\" class=\"dataframe\">\n",
              "  <thead>\n",
              "    <tr style=\"text-align: right;\">\n",
              "      <th></th>\n",
              "      <th>ProductName</th>\n",
              "      <th>Value</th>\n",
              "      <th>Quantity</th>\n",
              "    </tr>\n",
              "  </thead>\n",
              "  <tbody>\n",
              "    <tr>\n",
              "      <th>0</th>\n",
              "      <td>Rice</td>\n",
              "      <td>35.55</td>\n",
              "      <td>2</td>\n",
              "    </tr>\n",
              "    <tr>\n",
              "      <th>1</th>\n",
              "      <td>Flour</td>\n",
              "      <td>11.55</td>\n",
              "      <td>5</td>\n",
              "    </tr>\n",
              "    <tr>\n",
              "      <th>2</th>\n",
              "      <td>Bean</td>\n",
              "      <td>27.15</td>\n",
              "      <td>7</td>\n",
              "    </tr>\n",
              "    <tr>\n",
              "      <th>3</th>\n",
              "      <td>Tomate</td>\n",
              "      <td>12.25</td>\n",
              "      <td>10</td>\n",
              "    </tr>\n",
              "    <tr>\n",
              "      <th>4</th>\n",
              "      <td>Pasta</td>\n",
              "      <td>7.55</td>\n",
              "      <td>5</td>\n",
              "    </tr>\n",
              "    <tr>\n",
              "      <th>5</th>\n",
              "      <td>Beer</td>\n",
              "      <td>9.00</td>\n",
              "      <td>6</td>\n",
              "    </tr>\n",
              "    <tr>\n",
              "      <th>6</th>\n",
              "      <td>French fries</td>\n",
              "      <td>10.99</td>\n",
              "      <td>2</td>\n",
              "    </tr>\n",
              "    <tr>\n",
              "      <th>7</th>\n",
              "      <td>Ice cream</td>\n",
              "      <td>27.15</td>\n",
              "      <td>1</td>\n",
              "    </tr>\n",
              "  </tbody>\n",
              "</table>\n",
              "</div>"
            ],
            "text/plain": [
              "    ProductName  Value  Quantity\n",
              "0          Rice  35.55         2\n",
              "1         Flour  11.55         5\n",
              "2          Bean  27.15         7\n",
              "3        Tomate  12.25        10\n",
              "4         Pasta   7.55         5\n",
              "5          Beer   9.00         6\n",
              "6  French fries  10.99         2\n",
              "7     Ice cream  27.15         1"
            ]
          },
          "metadata": {},
          "execution_count": 13
        }
      ]
    },
    {
      "cell_type": "markdown",
      "metadata": {
        "id": "UjuKH6H7jNyY"
      },
      "source": [
        "Os df_completo e df_separado podem ser correlacionados com seus indices de linhas e sua colunas. "
      ]
    }
  ]
}